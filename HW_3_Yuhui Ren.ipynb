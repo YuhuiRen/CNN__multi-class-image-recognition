{
 "cells": [
  {
   "cell_type": "markdown",
   "metadata": {},
   "source": [
    "# <center>Assignment 3: CNN </center>\n",
    "\n",
    "In this assignment, we'll practice multi-class image recognition. The dataset is from https://www.kaggle.com/vijaygiitk/multiclass-weather-dataset. Please download the dataset and unzip the dataset into a fold. Your fold should contain the following subfolders, each for one class:\n",
    "- cloudy\n",
    "- foggy\n",
    "- rainy\n",
    "- shine\n",
    "- sunrise\n",
    "\n",
    "Ignore other files or folders in the dataset."
   ]
  },
  {
   "cell_type": "markdown",
   "metadata": {},
   "source": [
    "### Task 1.1. Data Preprocessing\n",
    "\n",
    "- Refer to \"Lab_2_CNN_Data_Augmentation\" to read the image files and put them into separate folders for `training`, `validation`, and `testing` \n",
    "- For each class, use 60% images for training, 20% for validation, and 20% for testing. Shuffle files before you split images.\n",
    "- Create data generator for training, validation, and test datasets. Since the dataset has multiple classes, be sure to set the `class_mode` to `categorical`. Similar to the lab, Scale the pixels to `[0,1]`."
   ]
  },
  {
   "cell_type": "code",
   "execution_count": 1,
   "metadata": {},
   "outputs": [],
   "source": [
    "import os, shutil\n",
    "\n",
    "original_dataset_dir = 'C:/Users/zhou/Desktop/BIA 667/3 - HWK/HWK 3/dataset'\n",
    "base_dir = 'C:/Users/zhou/Desktop/BIA 667/3 - HWK/HWK 3/task'                   # create task folder\n",
    "if not os.path.exists(base_dir):\n",
    "    os.mkdir(base_dir)"
   ]
  },
  {
   "cell_type": "code",
   "execution_count": 2,
   "metadata": {},
   "outputs": [],
   "source": [
    "train_dir = os.path.join(base_dir, 'train')                       # create train folder\n",
    "if not os.path.exists(train_dir):\n",
    "    os.mkdir(train_dir)\n",
    "      \n",
    "validation_dir = os.path.join(base_dir, 'validation')             # create validation folder\n",
    "if not os.path.exists(validation_dir):\n",
    "    os.mkdir(validation_dir)\n",
    "    \n",
    "test_dir = os.path.join(base_dir, 'test')                         # create test folder\n",
    "if not os.path.exists(test_dir):\n",
    "    os.mkdir(test_dir)"
   ]
  },
  {
   "cell_type": "code",
   "execution_count": 3,
   "metadata": {},
   "outputs": [],
   "source": [
    "train_cloudy_dir = os.path.join(train_dir, 'cloudy')              # create cloudy folder under train folder\n",
    "if not os.path.exists(train_cloudy_dir):\n",
    "    os.mkdir(train_cloudy_dir)\n",
    "\n",
    "train_foggy_dir = os.path.join(train_dir, 'foggy')                # create foggy folder under train folder\n",
    "if not os.path.exists(train_foggy_dir):\n",
    "    os.mkdir(train_foggy_dir)\n",
    "    \n",
    "train_rainy_dir = os.path.join(train_dir, 'rainy')                # create rainy folder under train folder\n",
    "if not os.path.exists(train_rainy_dir):\n",
    "    os.mkdir(train_rainy_dir)\n",
    "    \n",
    "train_shine_dir = os.path.join(train_dir, 'shine')                # create shine folder under train folder\n",
    "if not os.path.exists(train_shine_dir):\n",
    "    os.mkdir(train_shine_dir)\n",
    "    \n",
    "train_sunrise_dir = os.path.join(train_dir, 'sunrise')            # create sunrise folder under train folder\n",
    "if not os.path.exists(train_sunrise_dir):\n",
    "    os.mkdir(train_sunrise_dir)"
   ]
  },
  {
   "cell_type": "code",
   "execution_count": 4,
   "metadata": {},
   "outputs": [],
   "source": [
    "validation_cloudy_dir = os.path.join(validation_dir, 'cloudy')    # create cloudy folder under validation folder\n",
    "if not os.path.exists(validation_cloudy_dir):\n",
    "    os.mkdir(validation_cloudy_dir)\n",
    "\n",
    "validation_foggy_dir = os.path.join(validation_dir, 'foggy')      # create foggy folder under validation folder\n",
    "if not os.path.exists(validation_foggy_dir):\n",
    "    os.mkdir(validation_foggy_dir)\n",
    "    \n",
    "validation_rainy_dir = os.path.join(validation_dir, 'rainy')      # create rainy folder under validation folder\n",
    "if not os.path.exists(validation_rainy_dir):\n",
    "    os.mkdir(validation_rainy_dir)\n",
    "    \n",
    "validation_shine_dir = os.path.join(validation_dir, 'shine')      # create shine folder under validation folder\n",
    "if not os.path.exists(validation_shine_dir):\n",
    "    os.mkdir(validation_shine_dir)\n",
    "    \n",
    "validation_sunrise_dir = os.path.join(validation_dir, 'sunrise')  # create sunrise folder under validation folder\n",
    "if not os.path.exists(validation_sunrise_dir):\n",
    "    os.mkdir(validation_sunrise_dir)"
   ]
  },
  {
   "cell_type": "code",
   "execution_count": 5,
   "metadata": {},
   "outputs": [],
   "source": [
    "test_cloudy_dir = os.path.join(test_dir, 'cloudy')              # create cloudy folder under test folder\n",
    "if not os.path.exists(test_cloudy_dir):\n",
    "    os.mkdir(test_cloudy_dir)\n",
    "\n",
    "test_foggy_dir = os.path.join(test_dir, 'foggy')                # create foggy folder under test folder\n",
    "if not os.path.exists(test_foggy_dir):\n",
    "    os.mkdir(test_foggy_dir)\n",
    "    \n",
    "test_rainy_dir = os.path.join(test_dir, 'rainy')                # create rainy folder under test folder\n",
    "if not os.path.exists(test_rainy_dir):\n",
    "    os.mkdir(test_rainy_dir)\n",
    "    \n",
    "test_shine_dir = os.path.join(test_dir, 'shine')                # create shine folder under test folder\n",
    "if not os.path.exists(test_shine_dir):\n",
    "    os.mkdir(test_shine_dir)\n",
    "    \n",
    "test_sunrise_dir = os.path.join(test_dir, 'sunrise')            # create sunrise folder under test folder\n",
    "if not os.path.exists(test_sunrise_dir):\n",
    "    os.mkdir(test_sunrise_dir)"
   ]
  },
  {
   "cell_type": "code",
   "execution_count": 6,
   "metadata": {},
   "outputs": [],
   "source": [
    "# Copy cloudy images from source folder to train, validation and test folder \n",
    "\n",
    "src = os.path.join(original_dataset_dir, 'cloudy')\n",
    "cloudy_images = os.listdir(src)\n",
    "\n",
    "for file_name in cloudy_images[:int(0.6*len(os.listdir(os.path.join(original_dataset_dir, 'cloudy'))))]:\n",
    "    full_file_name = os.path.join(src, file_name)\n",
    "    dst = os.path.join(train_cloudy_dir, file_name)\n",
    "    shutil.copy(full_file_name, dst)\n",
    "        \n",
    "for file_name in cloudy_images[int(0.6*len(os.listdir(os.path.join(original_dataset_dir, 'cloudy')))):\\\n",
    "                              int(0.8*len(os.listdir(os.path.join(original_dataset_dir, 'cloudy'))))]:\n",
    "    full_file_name = os.path.join(src, file_name)\n",
    "    dst = os.path.join(validation_cloudy_dir, file_name)\n",
    "    shutil.copy(full_file_name, dst)\n",
    "\n",
    "for file_name in cloudy_images[int(0.8*len(os.listdir(os.path.join(original_dataset_dir, 'cloudy')))):]:\n",
    "    full_file_name = os.path.join(src, file_name)\n",
    "    dst = os.path.join(test_cloudy_dir, file_name)\n",
    "    shutil.copy(full_file_name, dst)"
   ]
  },
  {
   "cell_type": "code",
   "execution_count": 7,
   "metadata": {},
   "outputs": [],
   "source": [
    "# Copy foggy images from source folder to train, validation and test folder \n",
    "\n",
    "src = os.path.join(original_dataset_dir, 'foggy')\n",
    "foggy_images = os.listdir(src)\n",
    "\n",
    "for file_name in foggy_images[:int(0.6*len(os.listdir(os.path.join(original_dataset_dir, 'foggy'))))]:\n",
    "    full_file_name = os.path.join(src, file_name)\n",
    "    dst = os.path.join(train_foggy_dir, file_name)\n",
    "    shutil.copy(full_file_name, dst)\n",
    "        \n",
    "for file_name in foggy_images[int(0.6*len(os.listdir(os.path.join(original_dataset_dir, 'foggy')))):\\\n",
    "                              int(0.8*len(os.listdir(os.path.join(original_dataset_dir, 'foggy'))))]:\n",
    "    full_file_name = os.path.join(src, file_name)\n",
    "    dst = os.path.join(validation_foggy_dir, file_name)\n",
    "    shutil.copy(full_file_name, dst)\n",
    "\n",
    "for file_name in foggy_images[int(0.8*len(os.listdir(os.path.join(original_dataset_dir, 'foggy')))):]:\n",
    "    full_file_name = os.path.join(src, file_name)\n",
    "    dst = os.path.join(test_foggy_dir, file_name)\n",
    "    shutil.copy(full_file_name, dst)"
   ]
  },
  {
   "cell_type": "code",
   "execution_count": 8,
   "metadata": {},
   "outputs": [],
   "source": [
    "# Copy rainy images from source folder to train, validation and test folder \n",
    "\n",
    "src = os.path.join(original_dataset_dir, 'rainy')\n",
    "rainy_images = os.listdir(src)\n",
    "\n",
    "for file_name in rainy_images[:int(0.6*len(os.listdir(os.path.join(original_dataset_dir, 'rainy'))))]:\n",
    "    full_file_name = os.path.join(src, file_name)\n",
    "    dst = os.path.join(train_rainy_dir, file_name)\n",
    "    shutil.copy(full_file_name, dst)\n",
    "        \n",
    "for file_name in rainy_images[int(0.6*len(os.listdir(os.path.join(original_dataset_dir, 'rainy')))):\\\n",
    "                              int(0.8*len(os.listdir(os.path.join(original_dataset_dir, 'rainy'))))]:\n",
    "    full_file_name = os.path.join(src, file_name)\n",
    "    dst = os.path.join(validation_rainy_dir, file_name)\n",
    "    shutil.copy(full_file_name, dst)\n",
    "\n",
    "for file_name in rainy_images[int(0.8*len(os.listdir(os.path.join(original_dataset_dir, 'rainy')))):]:\n",
    "    full_file_name = os.path.join(src, file_name)\n",
    "    dst = os.path.join(test_rainy_dir, file_name)\n",
    "    shutil.copy(full_file_name, dst)"
   ]
  },
  {
   "cell_type": "code",
   "execution_count": 9,
   "metadata": {},
   "outputs": [],
   "source": [
    "# Copy shine images from source folder to train, validation and test folder \n",
    "\n",
    "src = os.path.join(original_dataset_dir, 'shine')\n",
    "shine_images = os.listdir(src)\n",
    "\n",
    "for file_name in shine_images[:int(0.6*len(os.listdir(os.path.join(original_dataset_dir, 'shine'))))]:\n",
    "    full_file_name = os.path.join(src, file_name)\n",
    "    dst = os.path.join(train_shine_dir, file_name)\n",
    "    shutil.copy(full_file_name, dst)\n",
    "        \n",
    "for file_name in shine_images[int(0.6*len(os.listdir(os.path.join(original_dataset_dir, 'shine')))):\\\n",
    "                              int(0.8*len(os.listdir(os.path.join(original_dataset_dir, 'shine'))))]:\n",
    "    full_file_name = os.path.join(src, file_name)\n",
    "    dst = os.path.join(validation_shine_dir, file_name)\n",
    "    shutil.copy(full_file_name, dst)\n",
    "\n",
    "for file_name in shine_images[int(0.8*len(os.listdir(os.path.join(original_dataset_dir, 'shine')))):]:\n",
    "    full_file_name = os.path.join(src, file_name)\n",
    "    dst = os.path.join(test_shine_dir, file_name)\n",
    "    shutil.copy(full_file_name, dst)"
   ]
  },
  {
   "cell_type": "code",
   "execution_count": 10,
   "metadata": {},
   "outputs": [],
   "source": [
    "# Copy sunrise images from source folder to train, validation and test folder \n",
    "\n",
    "src = os.path.join(original_dataset_dir, 'sunrise')\n",
    "sunrise_images = os.listdir(src)\n",
    "\n",
    "for file_name in sunrise_images[:int(0.6*len(os.listdir(os.path.join(original_dataset_dir, 'sunrise'))))]:\n",
    "    full_file_name = os.path.join(src, file_name)\n",
    "    dst = os.path.join(train_sunrise_dir, file_name)\n",
    "    shutil.copy(full_file_name, dst)\n",
    "        \n",
    "for file_name in sunrise_images[int(0.6*len(os.listdir(os.path.join(original_dataset_dir, 'sunrise')))):\\\n",
    "                              int(0.8*len(os.listdir(os.path.join(original_dataset_dir, 'sunrise'))))]:\n",
    "    full_file_name = os.path.join(src, file_name)\n",
    "    dst = os.path.join(validation_sunrise_dir, file_name)\n",
    "    shutil.copy(full_file_name, dst)\n",
    "\n",
    "for file_name in sunrise_images[int(0.8*len(os.listdir(os.path.join(original_dataset_dir, 'sunrise')))):]:\n",
    "    full_file_name = os.path.join(src, file_name)\n",
    "    dst = os.path.join(test_sunrise_dir, file_name)\n",
    "    shutil.copy(full_file_name, dst)"
   ]
  },
  {
   "cell_type": "code",
   "execution_count": 11,
   "metadata": {},
   "outputs": [
    {
     "name": "stdout",
     "output_type": "stream",
     "text": [
      "cloudy\n",
      "     training images: 180\n",
      "     validation images: 60\n",
      "     testing images: 60\n",
      "foggy\n",
      "     training images: 180\n",
      "     validation images: 60\n",
      "     testing images: 60\n",
      "rainy\n",
      "     training images: 180\n",
      "     validation images: 60\n",
      "     testing images: 60\n",
      "shine\n",
      "     training images: 150\n",
      "     validation images: 50\n",
      "     testing images: 50\n",
      "sunrise\n",
      "     training images: 210\n",
      "     validation images: 70\n",
      "     testing images: 70\n"
     ]
    }
   ],
   "source": [
    "print ('cloudy')\n",
    "print('     training images:', len(os.listdir(train_cloudy_dir)))\n",
    "print('     validation images:', len(os.listdir(validation_cloudy_dir)))\n",
    "print('     testing images:', len(os.listdir(test_cloudy_dir)))\n",
    "print ('foggy')\n",
    "print('     training images:', len(os.listdir(train_foggy_dir)))\n",
    "print('     validation images:', len(os.listdir(validation_foggy_dir)))\n",
    "print('     testing images:', len(os.listdir(test_foggy_dir)))\n",
    "print ('rainy')\n",
    "print('     training images:', len(os.listdir(train_rainy_dir)))\n",
    "print('     validation images:', len(os.listdir(validation_rainy_dir)))\n",
    "print('     testing images:', len(os.listdir(test_rainy_dir)))\n",
    "print ('shine')\n",
    "print('     training images:', len(os.listdir(train_shine_dir)))\n",
    "print('     validation images:', len(os.listdir(validation_shine_dir)))\n",
    "print('     testing images:', len(os.listdir(test_shine_dir)))\n",
    "print ('sunrise')\n",
    "print('     training images:', len(os.listdir(train_sunrise_dir)))\n",
    "print('     validation images:', len(os.listdir(validation_sunrise_dir)))\n",
    "print('     testing images:', len(os.listdir(test_sunrise_dir)))"
   ]
  },
  {
   "cell_type": "code",
   "execution_count": 13,
   "metadata": {},
   "outputs": [
    {
     "name": "stdout",
     "output_type": "stream",
     "text": [
      "Found 900 images belonging to 5 classes.\n",
      "Found 300 images belonging to 5 classes.\n",
      "Found 300 images belonging to 5 classes.\n"
     ]
    }
   ],
   "source": [
    "from keras.preprocessing.image import ImageDataGenerator\n",
    "\n",
    "train_datagen = ImageDataGenerator(rescale=1./255)\n",
    "validation_datagen = ImageDataGenerator(rescale=1./255)\n",
    "test_datagen = ImageDataGenerator(rescale=1./255)\n",
    "\n",
    "train_generator = train_datagen.flow_from_directory(\n",
    "        train_dir,\n",
    "        target_size=(150, 150),\n",
    "        batch_size=30, \n",
    "        class_mode='categorical')  \n",
    "\n",
    "validation_generator = validation_datagen.flow_from_directory(\n",
    "        validation_dir,\n",
    "        target_size=(150, 150),\n",
    "        batch_size=30,\n",
    "        class_mode='categorical')\n",
    "\n",
    "test_generator = test_datagen.flow_from_directory(\n",
    "        test_dir,\n",
    "        target_size=(150, 150),\n",
    "        batch_size=30,\n",
    "        class_mode='categorical') "
   ]
  },
  {
   "cell_type": "code",
   "execution_count": 22,
   "metadata": {},
   "outputs": [
    {
     "name": "stdout",
     "output_type": "stream",
     "text": [
      "Data batch shape: (30, 150, 150, 3)\n",
      "Labels batch shape: (30, 5)\n",
      "Labels for first image:  [1. 0. 0. 0. 0.]\n",
      "Show the first image:\n"
     ]
    },
    {
     "data": {
      "image/png": "[encoded data removed]",
      "text/plain": [
       "<Figure size 432x288 with 1 Axes>"
      ]
     },
     "metadata": {
      "needs_background": "light"
     },
     "output_type": "display_data"
    }
   ],
   "source": [
    "# Test one batch to see the images are loaded properly\n",
    "\n",
    "for data_batch, labels_batch in train_generator:\n",
    "    print('Data batch shape:', data_batch.shape)\n",
    "    print('Labels batch shape:', labels_batch.shape)\n",
    "    break\n",
    "\n",
    "print(\"Labels for first image: \",labels_batch[0])\n",
    "print(\"Show the first image:\")\n",
    "\n",
    "import matplotlib.pyplot as plt\n",
    "plt.imshow(data_batch[0]) \n",
    "plt.show()    "
   ]
  },
  {
   "cell_type": "markdown",
   "metadata": {},
   "source": [
    "### Task 1.2. Build Model\n",
    "\n",
    "- Create a CNN models with appropriate layers of `Convolution`, `MaxPooling2D`, and `Dense` layers. Use appropriate activation functions for these layers.\n",
    "- Since this dataset is small, it may be easily get overfitted. Make your model as simple as possible. Avoid creating a very deep model.\n",
    "- Leverage `Dropout`, `early stopping`, and/or other regularization techniques to fight overfitting. If you use `early stopping`, don't forget to load the best model back after you complete training.\n",
    "- Compile your model with appropriate optimizer and loss function. \n",
    "- Print the summary of your model"
   ]
  },
  {
   "cell_type": "code",
   "execution_count": 32,
   "metadata": {},
   "outputs": [],
   "source": [
    "from keras import models\n",
    "from keras import layers\n",
    "from keras import regularizers"
   ]
  },
  {
   "cell_type": "code",
   "execution_count": 145,
   "metadata": {},
   "outputs": [],
   "source": [
    "model = models.Sequential()\n",
    "model.add(layers.Conv2D(36,(3,3),activation='relu', input_shape=(150,150,3)))\n",
    "model.add(layers.Dropout(rate=0.5))\n",
    "model.add(layers.MaxPooling2D((2,2)))\n",
    "model.add(layers.Conv2D(48,(3,3),activation='relu'))\n",
    "model.add(layers.MaxPooling2D((2,2)))\n",
    "model.add(layers.Flatten())\n",
    "model.add(layers.Dense(128, activation='relu', kernel_regularizer=regularizers.l2(0.001)))\n",
    "model.add(layers.Dense(5, activation='softmax'))"
   ]
  },
  {
   "cell_type": "code",
   "execution_count": 146,
   "metadata": {},
   "outputs": [
    {
     "name": "stdout",
     "output_type": "stream",
     "text": [
      "Model: \"sequential_5\"\n",
      "_________________________________________________________________\n",
      "Layer (type)                 Output Shape              Param #   \n",
      "=================================================================\n",
      "conv2d_9 (Conv2D)            (None, 148, 148, 36)      1008      \n",
      "_________________________________________________________________\n",
      "dropout_5 (Dropout)          (None, 148, 148, 36)      0         \n",
      "_________________________________________________________________\n",
      "max_pooling2d_9 (MaxPooling2 (None, 74, 74, 36)        0         \n",
      "_________________________________________________________________\n",
      "conv2d_10 (Conv2D)           (None, 72, 72, 48)        15600     \n",
      "_________________________________________________________________\n",
      "max_pooling2d_10 (MaxPooling (None, 36, 36, 48)        0         \n",
      "_________________________________________________________________\n",
      "flatten_5 (Flatten)          (None, 62208)             0         \n",
      "_________________________________________________________________\n",
      "dense_7 (Dense)              (None, 128)               7962752   \n",
      "_________________________________________________________________\n",
      "dense_8 (Dense)              (None, 5)                 645       \n",
      "=================================================================\n",
      "Total params: 7,980,005\n",
      "Trainable params: 7,980,005\n",
      "Non-trainable params: 0\n",
      "_________________________________________________________________\n"
     ]
    }
   ],
   "source": [
    "model.summary()"
   ]
  },
  {
   "cell_type": "code",
   "execution_count": 147,
   "metadata": {},
   "outputs": [],
   "source": [
    "model.compile(optimizer='rmsprop',\n",
    "              loss='categorical_crossentropy',\n",
    "              metrics=['acc'])"
   ]
  },
  {
   "cell_type": "markdown",
   "metadata": {},
   "source": [
    "### Task 1.3. Fit your model\n",
    "\n",
    "- Train the model until it converges. Set appropriate hyperparameters: `steps_per_epoch`, `epochs`, and `validation_steps` based on your computation capability and sample size.\n",
    "- Plot the loss and accuracy of the model over the training and validation data during training. \n",
    "- Test the model using test dataset. You can samples a few batches from the test generator. For example, if each batch returns 30 images, with 10 batches, you can approximately get all images from the test subset. \n",
    "- Print out the precision, recall, and F-1 score of each class.\n",
    "\n",
    "- Tune the model appropriately. At minimum, `you should be able to get over 70% accuracy on the testing subset`."
   ]
  },
  {
   "cell_type": "code",
   "execution_count": 148,
   "metadata": {},
   "outputs": [
    {
     "name": "stdout",
     "output_type": "stream",
     "text": [
      "Epoch 1/20\n",
      "30/30 [==============================] - 31s 1s/step - loss: 2.8430 - acc: 0.5033 - val_loss: 1.2259 - val_acc: 0.6233\n",
      "Epoch 2/20\n",
      "30/30 [==============================] - 36s 1s/step - loss: 1.0833 - acc: 0.6622 - val_loss: 1.1749 - val_acc: 0.7333\n",
      "Epoch 3/20\n",
      "30/30 [==============================] - 34s 1s/step - loss: 0.9091 - acc: 0.6956 - val_loss: 1.1285 - val_acc: 0.7300\n",
      "Epoch 4/20\n",
      "30/30 [==============================] - 34s 1s/step - loss: 0.8580 - acc: 0.7467 - val_loss: 1.1660 - val_acc: 0.7200\n",
      "Epoch 5/20\n",
      "30/30 [==============================] - 33s 1s/step - loss: 0.8085 - acc: 0.7533 - val_loss: 1.1185 - val_acc: 0.6333\n",
      "Epoch 6/20\n",
      "30/30 [==============================] - 38s 1s/step - loss: 0.8022 - acc: 0.7767 - val_loss: 1.1003 - val_acc: 0.6467\n",
      "Epoch 7/20\n",
      "30/30 [==============================] - 34s 1s/step - loss: 0.6344 - acc: 0.8467 - val_loss: 0.9105 - val_acc: 0.7333\n",
      "Epoch 8/20\n",
      "30/30 [==============================] - 33s 1s/step - loss: 0.5889 - acc: 0.8689 - val_loss: 1.1689 - val_acc: 0.7500\n",
      "Epoch 9/20\n",
      "30/30 [==============================] - 34s 1s/step - loss: 0.6434 - acc: 0.8533 - val_loss: 1.1913 - val_acc: 0.6833\n",
      "Epoch 10/20\n",
      "30/30 [==============================] - 36s 1s/step - loss: 0.4746 - acc: 0.8989 - val_loss: 1.3784 - val_acc: 0.6300\n",
      "Epoch 11/20\n",
      "30/30 [==============================] - 51s 2s/step - loss: 0.6116 - acc: 0.8656 - val_loss: 0.8029 - val_acc: 0.7533\n",
      "Epoch 12/20\n",
      "30/30 [==============================] - 37s 1s/step - loss: 0.4574 - acc: 0.9233 - val_loss: 0.9643 - val_acc: 0.7533\n",
      "Epoch 13/20\n",
      "30/30 [==============================] - 33s 1s/step - loss: 0.5312 - acc: 0.8967 - val_loss: 0.9524 - val_acc: 0.6900\n",
      "Epoch 14/20\n",
      "30/30 [==============================] - 33s 1s/step - loss: 0.4927 - acc: 0.9178 - val_loss: 0.7266 - val_acc: 0.7367\n",
      "Epoch 15/20\n",
      "30/30 [==============================] - 34s 1s/step - loss: 0.4492 - acc: 0.9356 - val_loss: 1.7513 - val_acc: 0.6067\n",
      "Epoch 16/20\n",
      "30/30 [==============================] - 42s 1s/step - loss: 0.5267 - acc: 0.9200 - val_loss: 1.0273 - val_acc: 0.7233\n",
      "Epoch 17/20\n",
      "30/30 [==============================] - 47s 2s/step - loss: 0.4042 - acc: 0.9222 - val_loss: 0.8069 - val_acc: 0.7500\n",
      "Epoch 18/20\n",
      "30/30 [==============================] - 34s 1s/step - loss: 0.4131 - acc: 0.9356 - val_loss: 0.6665 - val_acc: 0.7333\n",
      "Epoch 19/20\n",
      "30/30 [==============================] - 28s 943ms/step - loss: 0.3297 - acc: 0.9433 - val_loss: 0.9335 - val_acc: 0.7233\n",
      "Epoch 20/20\n",
      "30/30 [==============================] - 26s 881ms/step - loss: 0.5690 - acc: 0.9189 - val_loss: 0.6968 - val_acc: 0.7500\n"
     ]
    }
   ],
   "source": [
    "history = model.fit_generator(\n",
    "      train_generator,\n",
    "      steps_per_epoch=30, # number of batches\n",
    "      epochs=20,\n",
    "      validation_data=validation_generator,\n",
    "      validation_steps=50) "
   ]
  },
  {
   "cell_type": "code",
   "execution_count": 149,
   "metadata": {},
   "outputs": [
    {
     "data": {
      "image/png": "[encoded data removed]",
      "text/plain": [
       "<Figure size 432x288 with 1 Axes>"
      ]
     },
     "metadata": {
      "needs_background": "light"
     },
     "output_type": "display_data"
    },
    {
     "data": {
      "image/png": "[encoded data removed]",
      "text/plain": [
       "<Figure size 432x288 with 1 Axes>"
      ]
     },
     "metadata": {
      "needs_background": "light"
     },
     "output_type": "display_data"
    }
   ],
   "source": [
    "import matplotlib.pyplot as plt\n",
    "\n",
    "acc = history.history['acc']\n",
    "val_acc = history.history['val_acc']\n",
    "loss = history.history['loss']\n",
    "val_loss = history.history['val_loss']\n",
    "\n",
    "epochs = range(len(acc))\n",
    "\n",
    "plt.plot(epochs, acc, 'bo', label='Training acc')\n",
    "plt.plot(epochs, val_acc, 'b-', label='Validation acc')\n",
    "plt.title('Training and Validation Accuracy')\n",
    "plt.legend()\n",
    "\n",
    "plt.figure()\n",
    "plt.plot(epochs, loss, 'bo', label='Training loss')\n",
    "plt.plot(epochs, val_loss, 'b-', label='Validation loss')\n",
    "plt.title('Training and Validation Loss')\n",
    "plt.legend()\n",
    "\n",
    "plt.show()"
   ]
  },
  {
   "cell_type": "code",
   "execution_count": 171,
   "metadata": {},
   "outputs": [],
   "source": [
    "import numpy as np               \n",
    "i=0\n",
    "true_label = []\n",
    "predict_label = []\n",
    "for data_batch, labels_batch in test_generator:\n",
    "\n",
    "    for j in list(np.argmax(labels_batch,axis=1)):\n",
    "        true_label.append(j)\n",
    "    \n",
    "    predict = model.predict(data_batch)\n",
    "    for k in list(np.argmax(predict,axis=1)):\n",
    "        predict_label.append(k)\n",
    "    \n",
    "    i+=1\n",
    "    if i==10:\n",
    "        break"
   ]
  },
  {
   "cell_type": "code",
   "execution_count": 172,
   "metadata": {},
   "outputs": [
    {
     "name": "stdout",
     "output_type": "stream",
     "text": [
      "              precision    recall  f1-score   support\n",
      "\n",
      "      cloudy       0.61      0.56      0.59        64\n",
      "       foggy       0.72      0.47      0.57        60\n",
      "       rainy       0.51      0.91      0.65        58\n",
      "       shine       0.79      0.47      0.59        40\n",
      "     sunrise       0.95      0.90      0.92        78\n",
      "\n",
      "    accuracy                           0.69       300\n",
      "   macro avg       0.72      0.66      0.66       300\n",
      "weighted avg       0.72      0.69      0.68       300\n",
      "\n"
     ]
    }
   ],
   "source": [
    "from sklearn.metrics import classification_report\n",
    "print(classification_report(true_label,predict_label, target_names=['cloudy', 'foggy','rainy','shine','sunrise']))"
   ]
  },
  {
   "cell_type": "markdown",
   "metadata": {},
   "source": [
    "### Task 1.4. Using data augmentation\n",
    "- Try a few data augmentation techniques, e.g. rotation, shift, zoom etc. to see if the model performance can be improved. \n",
    "- Repeat Task 1.3 with the augmented data. `Note, you should start training from scratch, i.e. execute the model creation script first before fitting. Do not keep training the model which you obtained in Step 1.3.`  "
   ]
  },
  {
   "cell_type": "code",
   "execution_count": 173,
   "metadata": {},
   "outputs": [],
   "source": [
    "model = models.Sequential()\n",
    "model.add(layers.Conv2D(36,(3,3),activation='relu', input_shape=(150,150,3)))\n",
    "model.add(layers.Dropout(rate=0.5))\n",
    "model.add(layers.MaxPooling2D((2,2)))\n",
    "model.add(layers.Conv2D(48,(3,3),activation='relu'))\n",
    "model.add(layers.MaxPooling2D((2,2)))\n",
    "model.add(layers.Flatten())\n",
    "model.add(layers.Dense(128, activation='relu', kernel_regularizer=regularizers.l2(0.001)))\n",
    "model.add(layers.Dense(5, activation='softmax'))"
   ]
  },
  {
   "cell_type": "code",
   "execution_count": 175,
   "metadata": {},
   "outputs": [],
   "source": [
    "model.compile(optimizer='rmsprop',\n",
    "              loss='categorical_crossentropy',\n",
    "              metrics=['acc'])"
   ]
  },
  {
   "cell_type": "code",
   "execution_count": 176,
   "metadata": {},
   "outputs": [
    {
     "name": "stdout",
     "output_type": "stream",
     "text": [
      "Found 900 images belonging to 5 classes.\n",
      "Found 300 images belonging to 5 classes.\n",
      "Found 300 images belonging to 5 classes.\n"
     ]
    }
   ],
   "source": [
    "train_datagen = ImageDataGenerator(rescale=1./255, rotation_range=40, width_shift_range=0.2, height_shift_range=0.2, \\\n",
    "                                   shear_range=0.2, zoom_range=0.2, horizontal_flip=True,)\n",
    "validation_datagen = ImageDataGenerator(rescale=1./255)\n",
    "test_datagen = ImageDataGenerator(rescale=1./255)\n",
    "\n",
    "\n",
    "train_generator = train_datagen.flow_from_directory(\n",
    "        train_dir,\n",
    "        target_size=(150, 150),\n",
    "        batch_size=30, \n",
    "        class_mode='categorical')  \n",
    "\n",
    "validation_generator = validation_datagen.flow_from_directory(\n",
    "        validation_dir,\n",
    "        target_size=(150, 150),\n",
    "        batch_size=30,\n",
    "        class_mode='categorical')\n",
    "\n",
    "test_generator = test_datagen.flow_from_directory(\n",
    "        test_dir,\n",
    "        target_size=(150, 150),\n",
    "        batch_size=30,\n",
    "        class_mode='categorical') "
   ]
  },
  {
   "cell_type": "code",
   "execution_count": 177,
   "metadata": {},
   "outputs": [
    {
     "name": "stdout",
     "output_type": "stream",
     "text": [
      "Epoch 1/20\n",
      "30/30 [==============================] - 37s 1s/step - loss: 4.2314 - acc: 0.4556 - val_loss: 1.2918 - val_acc: 0.6900\n",
      "Epoch 2/20\n",
      "30/30 [==============================] - 37s 1s/step - loss: 1.2401 - acc: 0.5789 - val_loss: 1.1214 - val_acc: 0.7400\n",
      "Epoch 3/20\n",
      "30/30 [==============================] - 34s 1s/step - loss: 1.0328 - acc: 0.6467 - val_loss: 1.2149 - val_acc: 0.6067\n",
      "Epoch 4/20\n",
      "30/30 [==============================] - 34s 1s/step - loss: 0.9883 - acc: 0.6478 - val_loss: 1.0080 - val_acc: 0.6167\n",
      "Epoch 5/20\n",
      "30/30 [==============================] - 34s 1s/step - loss: 0.9185 - acc: 0.6700 - val_loss: 1.1322 - val_acc: 0.6600\n",
      "Epoch 6/20\n",
      "30/30 [==============================] - 34s 1s/step - loss: 0.9202 - acc: 0.6778 - val_loss: 1.1330 - val_acc: 0.6400\n",
      "Epoch 7/20\n",
      "30/30 [==============================] - 34s 1s/step - loss: 0.8676 - acc: 0.6989 - val_loss: 0.8629 - val_acc: 0.7667\n",
      "Epoch 8/20\n",
      "30/30 [==============================] - 34s 1s/step - loss: 0.8583 - acc: 0.7056 - val_loss: 0.8176 - val_acc: 0.6833\n",
      "Epoch 9/20\n",
      "30/30 [==============================] - 35s 1s/step - loss: 0.9145 - acc: 0.6922 - val_loss: 0.7810 - val_acc: 0.7533\n",
      "Epoch 10/20\n",
      "30/30 [==============================] - 34s 1s/step - loss: 0.8455 - acc: 0.7233 - val_loss: 0.8242 - val_acc: 0.7633\n",
      "Epoch 11/20\n",
      "30/30 [==============================] - 28s 929ms/step - loss: 0.8245 - acc: 0.7233 - val_loss: 0.9897 - val_acc: 0.7067\n",
      "Epoch 12/20\n",
      "30/30 [==============================] - 29s 968ms/step - loss: 0.7884 - acc: 0.7289 - val_loss: 1.0700 - val_acc: 0.7400\n",
      "Epoch 13/20\n",
      "30/30 [==============================] - 29s 974ms/step - loss: 0.8234 - acc: 0.7456 - val_loss: 0.7265 - val_acc: 0.7733\n",
      "Epoch 14/20\n",
      "30/30 [==============================] - 32s 1s/step - loss: 0.8157 - acc: 0.7311 - val_loss: 0.9102 - val_acc: 0.7133\n",
      "Epoch 15/20\n",
      "30/30 [==============================] - 33s 1s/step - loss: 0.7877 - acc: 0.7378 - val_loss: 0.9241 - val_acc: 0.7100\n",
      "Epoch 16/20\n",
      "30/30 [==============================] - 32s 1s/step - loss: 0.8256 - acc: 0.7378 - val_loss: 0.8886 - val_acc: 0.7767\n",
      "Epoch 17/20\n",
      "30/30 [==============================] - 32s 1s/step - loss: 0.7458 - acc: 0.7478 - val_loss: 0.7527 - val_acc: 0.7033\n",
      "Epoch 18/20\n",
      "30/30 [==============================] - 32s 1s/step - loss: 0.7421 - acc: 0.7456 - val_loss: 0.7729 - val_acc: 0.6533\n",
      "Epoch 19/20\n",
      "30/30 [==============================] - 32s 1s/step - loss: 0.7224 - acc: 0.7533 - val_loss: 0.8237 - val_acc: 0.8000\n",
      "Epoch 20/20\n",
      "30/30 [==============================] - 32s 1s/step - loss: 0.7529 - acc: 0.7667 - val_loss: 0.6738 - val_acc: 0.7900\n"
     ]
    }
   ],
   "source": [
    "history = model.fit_generator(\n",
    "      train_generator,\n",
    "      steps_per_epoch=30, \n",
    "      epochs=20,\n",
    "      validation_data=validation_generator,\n",
    "      validation_steps=50) "
   ]
  },
  {
   "cell_type": "code",
   "execution_count": 178,
   "metadata": {},
   "outputs": [
    {
     "data": {
      "image/png": "[encoded data removed]",
      "text/plain": [
       "<Figure size 432x288 with 1 Axes>"
      ]
     },
     "metadata": {
      "needs_background": "light"
     },
     "output_type": "display_data"
    },
    {
     "data": {
      "image/png": "[encoded data removed]",
      "text/plain": [
       "<Figure size 432x288 with 1 Axes>"
      ]
     },
     "metadata": {
      "needs_background": "light"
     },
     "output_type": "display_data"
    }
   ],
   "source": [
    "acc = history.history['acc']\n",
    "val_acc = history.history['val_acc']\n",
    "loss = history.history['loss']\n",
    "val_loss = history.history['val_loss']\n",
    "\n",
    "epochs = range(len(acc))\n",
    "\n",
    "plt.plot(epochs, acc, 'bo', label='Training acc')\n",
    "plt.plot(epochs, val_acc, 'b-', label='Validation acc')\n",
    "plt.title('Training and Validation Accuracy')\n",
    "plt.legend()\n",
    "\n",
    "plt.figure()\n",
    "plt.plot(epochs, loss, 'bo', label='Training loss')\n",
    "plt.plot(epochs, val_loss, 'b-', label='Validation loss')\n",
    "plt.title('Training and Validation Loss')\n",
    "plt.legend()\n",
    "\n",
    "plt.show()"
   ]
  },
  {
   "cell_type": "code",
   "execution_count": 179,
   "metadata": {},
   "outputs": [
    {
     "name": "stdout",
     "output_type": "stream",
     "text": [
      "              precision    recall  f1-score   support\n",
      "\n",
      "      cloudy       0.63      0.62      0.62        60\n",
      "       foggy       0.57      0.83      0.68        60\n",
      "       rainy       0.81      0.57      0.67        60\n",
      "       shine       0.79      0.74      0.76        50\n",
      "     sunrise       0.94      0.87      0.90        70\n",
      "\n",
      "    accuracy                           0.73       300\n",
      "   macro avg       0.75      0.73      0.73       300\n",
      "weighted avg       0.75      0.73      0.73       300\n",
      "\n"
     ]
    }
   ],
   "source": [
    "i=0\n",
    "true_label = []\n",
    "predict_label = []\n",
    "for data_batch, labels_batch in test_generator:\n",
    "\n",
    "    for j in list(np.argmax(labels_batch,axis=1)):\n",
    "        true_label.append(j)\n",
    "    \n",
    "    predict = model.predict(data_batch)\n",
    "    for k in list(np.argmax(predict,axis=1)):\n",
    "        predict_label.append(k)\n",
    "    \n",
    "    i+=1\n",
    "    if i==10:\n",
    "        break\n",
    "        \n",
    "print(classification_report(true_label,predict_label, target_names=['cloudy', 'foggy','rainy','shine','sunrise']))"
   ]
  },
  {
   "cell_type": "markdown",
   "metadata": {},
   "source": [
    "### Task 1.5. (Bonus) Using Pretrained Model\n",
    "\n",
    "It is well accepted to use pretrained models, e.g. ResNet, VGG etc. to improve the performance of image classification. Try to leverage a pretrained model to extract basic features and then fine-tune your model."
   ]
  },
  {
   "cell_type": "code",
   "execution_count": 180,
   "metadata": {},
   "outputs": [],
   "source": [
    "from tensorflow.keras.applications.vgg19 import VGG19"
   ]
  },
  {
   "cell_type": "code",
   "execution_count": 181,
   "metadata": {},
   "outputs": [
    {
     "name": "stdout",
     "output_type": "stream",
     "text": [
      "Downloading data from https://storage.googleapis.com/tensorflow/keras-applications/vgg19/vgg19_weights_tf_dim_ordering_tf_kernels_notop.h5\n",
      "80142336/80134624 [==============================] - 11s 0us/step\n"
     ]
    }
   ],
   "source": [
    "vgg = VGG19(weights = \"imagenet\",include_top=False,input_shape=(150,150,3))"
   ]
  },
  {
   "cell_type": "code",
   "execution_count": 182,
   "metadata": {},
   "outputs": [],
   "source": [
    "for layer in vgg.layers:\n",
    "    layer.trainable = False"
   ]
  },
  {
   "cell_type": "code",
   "execution_count": 185,
   "metadata": {},
   "outputs": [],
   "source": [
    "from tensorflow.keras import Sequential\n",
    "from tensorflow.keras.layers import Flatten,Dense\n",
    "model =Sequential()\n",
    "model.add(vgg)\n",
    "model.add(Flatten())\n",
    "model.add(Dense(5,activation=\"softmax\"))"
   ]
  },
  {
   "cell_type": "code",
   "execution_count": 186,
   "metadata": {},
   "outputs": [
    {
     "name": "stdout",
     "output_type": "stream",
     "text": [
      "Model: \"sequential\"\n",
      "_________________________________________________________________\n",
      "Layer (type)                 Output Shape              Param #   \n",
      "=================================================================\n",
      "vgg19 (Model)                (None, 4, 4, 512)         20024384  \n",
      "_________________________________________________________________\n",
      "flatten (Flatten)            (None, 8192)              0         \n",
      "_________________________________________________________________\n",
      "dense (Dense)                (None, 5)                 40965     \n",
      "=================================================================\n",
      "Total params: 20,065,349\n",
      "Trainable params: 40,965\n",
      "Non-trainable params: 20,024,384\n",
      "_________________________________________________________________\n"
     ]
    }
   ],
   "source": [
    "model.summary()"
   ]
  },
  {
   "cell_type": "code",
   "execution_count": 187,
   "metadata": {},
   "outputs": [],
   "source": [
    "model.compile(optimizer='rmsprop',\n",
    "              loss='categorical_crossentropy',\n",
    "              metrics=['acc'])"
   ]
  },
  {
   "cell_type": "code",
   "execution_count": 188,
   "metadata": {},
   "outputs": [
    {
     "name": "stdout",
     "output_type": "stream",
     "text": [
      "Found 900 images belonging to 5 classes.\n",
      "Found 300 images belonging to 5 classes.\n",
      "Found 300 images belonging to 5 classes.\n"
     ]
    }
   ],
   "source": [
    "train_datagen = ImageDataGenerator(rescale=1./255)\n",
    "validation_datagen = ImageDataGenerator(rescale=1./255)\n",
    "test_datagen = ImageDataGenerator(rescale=1./255)\n",
    "\n",
    "train_generator = train_datagen.flow_from_directory(\n",
    "        train_dir,\n",
    "        target_size=(150, 150),\n",
    "        batch_size=30, \n",
    "        class_mode='categorical')  \n",
    "\n",
    "validation_generator = validation_datagen.flow_from_directory(\n",
    "        validation_dir,\n",
    "        target_size=(150, 150),\n",
    "        batch_size=30,\n",
    "        class_mode='categorical')\n",
    "\n",
    "test_generator = test_datagen.flow_from_directory(\n",
    "        test_dir,\n",
    "        target_size=(150, 150),\n",
    "        batch_size=30,\n",
    "        class_mode='categorical') "
   ]
  },
  {
   "cell_type": "code",
   "execution_count": 191,
   "metadata": {},
   "outputs": [
    {
     "name": "stdout",
     "output_type": "stream",
     "text": [
      "Epoch 1/10\n",
      "30/30 [==============================] - ETA: 0s - loss: 0.5404 - acc: 0.8156WARNING:tensorflow:Your input ran out of data; interrupting training. Make sure that your dataset or generator can generate at least `steps_per_epoch * epochs` batches (in this case, 50 batches). You may need to use the repeat() function when building your dataset.\n",
      "30/30 [==============================] - 128s 4s/step - loss: 0.5404 - acc: 0.8156 - val_loss: 0.4988 - val_acc: 0.8333\n",
      "Epoch 2/10\n",
      "30/30 [==============================] - ETA: 0s - loss: 0.4101 - acc: 0.8578WARNING:tensorflow:Your input ran out of data; interrupting training. Make sure that your dataset or generator can generate at least `steps_per_epoch * epochs` batches (in this case, 50 batches). You may need to use the repeat() function when building your dataset.\n",
      "30/30 [==============================] - 128s 4s/step - loss: 0.4101 - acc: 0.8578 - val_loss: 0.5089 - val_acc: 0.8033\n",
      "Epoch 3/10\n",
      "30/30 [==============================] - ETA: 0s - loss: 0.3068 - acc: 0.8989WARNING:tensorflow:Your input ran out of data; interrupting training. Make sure that your dataset or generator can generate at least `steps_per_epoch * epochs` batches (in this case, 50 batches). You may need to use the repeat() function when building your dataset.\n",
      "30/30 [==============================] - 140s 5s/step - loss: 0.3068 - acc: 0.8989 - val_loss: 0.4775 - val_acc: 0.8133\n",
      "Epoch 4/10\n",
      "30/30 [==============================] - ETA: 0s - loss: 0.2672 - acc: 0.9200WARNING:tensorflow:Your input ran out of data; interrupting training. Make sure that your dataset or generator can generate at least `steps_per_epoch * epochs` batches (in this case, 50 batches). You may need to use the repeat() function when building your dataset.\n",
      "30/30 [==============================] - 132s 4s/step - loss: 0.2672 - acc: 0.9200 - val_loss: 0.3766 - val_acc: 0.8667\n",
      "Epoch 5/10\n",
      "30/30 [==============================] - ETA: 0s - loss: 0.2183 - acc: 0.9367WARNING:tensorflow:Your input ran out of data; interrupting training. Make sure that your dataset or generator can generate at least `steps_per_epoch * epochs` batches (in this case, 50 batches). You may need to use the repeat() function when building your dataset.\n",
      "30/30 [==============================] - 161s 5s/step - loss: 0.2183 - acc: 0.9367 - val_loss: 0.4034 - val_acc: 0.8600\n",
      "Epoch 6/10\n",
      "30/30 [==============================] - ETA: 0s - loss: 0.1951 - acc: 0.9378WARNING:tensorflow:Your input ran out of data; interrupting training. Make sure that your dataset or generator can generate at least `steps_per_epoch * epochs` batches (in this case, 50 batches). You may need to use the repeat() function when building your dataset.\n",
      "30/30 [==============================] - 136s 5s/step - loss: 0.1951 - acc: 0.9378 - val_loss: 0.3258 - val_acc: 0.8867\n",
      "Epoch 7/10\n",
      "30/30 [==============================] - ETA: 0s - loss: 0.1704 - acc: 0.9567WARNING:tensorflow:Your input ran out of data; interrupting training. Make sure that your dataset or generator can generate at least `steps_per_epoch * epochs` batches (in this case, 50 batches). You may need to use the repeat() function when building your dataset.\n",
      "30/30 [==============================] - 171s 6s/step - loss: 0.1704 - acc: 0.9567 - val_loss: 0.3125 - val_acc: 0.8833\n",
      "Epoch 8/10\n",
      "30/30 [==============================] - ETA: 0s - loss: 0.1280 - acc: 0.9700WARNING:tensorflow:Your input ran out of data; interrupting training. Make sure that your dataset or generator can generate at least `steps_per_epoch * epochs` batches (in this case, 50 batches). You may need to use the repeat() function when building your dataset.\n",
      "30/30 [==============================] - 162s 5s/step - loss: 0.1280 - acc: 0.9700 - val_loss: 0.3259 - val_acc: 0.8767\n",
      "Epoch 9/10\n",
      "30/30 [==============================] - ETA: 0s - loss: 0.1083 - acc: 0.9756WARNING:tensorflow:Your input ran out of data; interrupting training. Make sure that your dataset or generator can generate at least `steps_per_epoch * epochs` batches (in this case, 50 batches). You may need to use the repeat() function when building your dataset.\n",
      "30/30 [==============================] - 162s 5s/step - loss: 0.1083 - acc: 0.9756 - val_loss: 0.2951 - val_acc: 0.9133\n",
      "Epoch 10/10\n",
      "30/30 [==============================] - ETA: 0s - loss: 0.0911 - acc: 0.9833WARNING:tensorflow:Your input ran out of data; interrupting training. Make sure that your dataset or generator can generate at least `steps_per_epoch * epochs` batches (in this case, 50 batches). You may need to use the repeat() function when building your dataset.\n",
      "30/30 [==============================] - 180s 6s/step - loss: 0.0911 - acc: 0.9833 - val_loss: 0.3415 - val_acc: 0.8900\n"
     ]
    }
   ],
   "source": [
    "history = model.fit(train_generator, steps_per_epoch=30, epochs=10,\\\n",
    "                    validation_data=validation_generator, validation_steps=50) "
   ]
  },
  {
   "cell_type": "code",
   "execution_count": 192,
   "metadata": {},
   "outputs": [
    {
     "data": {
      "image/png": "[encoded data removed]",
      "text/plain": [
       "<Figure size 432x288 with 1 Axes>"
      ]
     },
     "metadata": {
      "needs_background": "light"
     },
     "output_type": "display_data"
    },
    {
     "data": {
      "image/png": "[encoded data removed]",
      "text/plain": [
       "<Figure size 432x288 with 1 Axes>"
      ]
     },
     "metadata": {
      "needs_background": "light"
     },
     "output_type": "display_data"
    }
   ],
   "source": [
    "acc = history.history['acc']\n",
    "val_acc = history.history['val_acc']\n",
    "loss = history.history['loss']\n",
    "val_loss = history.history['val_loss']\n",
    "\n",
    "epochs = range(len(acc))\n",
    "\n",
    "plt.plot(epochs, acc, 'bo', label='Training acc')\n",
    "plt.plot(epochs, val_acc, 'b-', label='Validation acc')\n",
    "plt.title('Training and Validation Accuracy')\n",
    "plt.legend()\n",
    "\n",
    "plt.figure()\n",
    "plt.plot(epochs, loss, 'bo', label='Training loss')\n",
    "plt.plot(epochs, val_loss, 'b-', label='Validation loss')\n",
    "plt.title('Training and Validation Loss')\n",
    "plt.legend()\n",
    "\n",
    "plt.show()"
   ]
  },
  {
   "cell_type": "code",
   "execution_count": 193,
   "metadata": {},
   "outputs": [
    {
     "name": "stdout",
     "output_type": "stream",
     "text": [
      "              precision    recall  f1-score   support\n",
      "\n",
      "      cloudy       0.85      0.92      0.88        60\n",
      "       foggy       0.84      0.77      0.80        60\n",
      "       rainy       0.73      0.97      0.83        60\n",
      "       shine       0.80      0.74      0.77        50\n",
      "     sunrise       0.96      0.76      0.85        70\n",
      "\n",
      "    accuracy                           0.83       300\n",
      "   macro avg       0.84      0.83      0.83       300\n",
      "weighted avg       0.84      0.83      0.83       300\n",
      "\n"
     ]
    }
   ],
   "source": [
    "i=0\n",
    "true_label = []\n",
    "predict_label = []\n",
    "for data_batch, labels_batch in test_generator:\n",
    "\n",
    "    for j in list(np.argmax(labels_batch,axis=1)):\n",
    "        true_label.append(j)\n",
    "    \n",
    "    predict = model.predict(data_batch)\n",
    "    for k in list(np.argmax(predict,axis=1)):\n",
    "        predict_label.append(k)\n",
    "    \n",
    "    i+=1\n",
    "    if i==10:\n",
    "        break\n",
    "        \n",
    "print(classification_report(true_label,predict_label, target_names=['cloudy', 'foggy','rainy','shine','sunrise']))"
   ]
  },
  {
   "cell_type": "code",
   "execution_count": null,
   "metadata": {},
   "outputs": [],
   "source": []
  },
  {
   "cell_type": "code",
   "execution_count": null,
   "metadata": {},
   "outputs": [],
   "source": []
  },
  {
   "cell_type": "markdown",
   "metadata": {},
   "source": [
    "## Task 2: Classify Sentiment from Text by CNN (5 points)\n",
    "\n",
    "In HW_1, we classify upvote level based on TF-IDF weights. Now let's do the classification using CNN models. You can reference `Lab_2_CNN_Text_Classification` for the steps needed in this task.\n",
    "\n",
    "Note that it is difficult to predict upvote level only based on text. You may observe that your CNN model cannot deliver a better performance than the one you created in HW \\#1. Don't worry about it. We just use this dataset to practice how to classify text by CNN."
   ]
  },
  {
   "cell_type": "markdown",
   "metadata": {},
   "source": [
    "### Task 2.1 Data Processing (2 points)\n",
    "- Before you create the CNN model, do the following preprocessing:\n",
    "    - Decide the `max number of words` in the corpus and the `max length of documents`\n",
    "    - Tokenize each document and convert each document into a sequence of numbers (hint: you can use `keras.preprocessing.text` and `keras.preprocessing.sequence` to achive this)\n",
    "    - Make all documents have uniform length by padding short ones with zeros and truncating long ones\n",
    "    - After preprocessing, split the samples into training, validation, and test as you did in HW_2."
   ]
  },
  {
   "cell_type": "code",
   "execution_count": 102,
   "metadata": {},
   "outputs": [
    {
     "data": {
      "text/html": [
       "<div>\n",
       "<style scoped>\n",
       "    .dataframe tbody tr th:only-of-type {\n",
       "        vertical-align: middle;\n",
       "    }\n",
       "\n",
       "    .dataframe tbody tr th {\n",
       "        vertical-align: top;\n",
       "    }\n",
       "\n",
       "    .dataframe thead th {\n",
       "        text-align: right;\n",
       "    }\n",
       "</style>\n",
       "<table border=\"1\" class=\"dataframe\">\n",
       "  <thead>\n",
       "    <tr style=\"text-align: right;\">\n",
       "      <th></th>\n",
       "      <th>id</th>\n",
       "      <th>text</th>\n",
       "      <th>score</th>\n",
       "      <th>parent_text</th>\n",
       "      <th>parent_score</th>\n",
       "      <th>target</th>\n",
       "    </tr>\n",
       "  </thead>\n",
       "  <tbody>\n",
       "    <tr>\n",
       "      <th>0</th>\n",
       "      <td>c4ciw4w</td>\n",
       "      <td>Maybe your dance moves were just that embarras...</td>\n",
       "      <td>117</td>\n",
       "      <td>Funny story: way back in, I think 2003, Asimo ...</td>\n",
       "      <td>604.0</td>\n",
       "      <td>2</td>\n",
       "    </tr>\n",
       "    <tr>\n",
       "      <th>1</th>\n",
       "      <td>cpfn8ia</td>\n",
       "      <td>I imagined an AT&amp;amp;T rep seeing this post:  ...</td>\n",
       "      <td>466</td>\n",
       "      <td>Unlike AT&amp;amp;T, you can count on that to come...</td>\n",
       "      <td>944.0</td>\n",
       "      <td>2</td>\n",
       "    </tr>\n",
       "    <tr>\n",
       "      <th>2</th>\n",
       "      <td>c3r1ncb</td>\n",
       "      <td>There's always mana in the banana stand.</td>\n",
       "      <td>351</td>\n",
       "      <td>If people think this is an unfair nerf, they h...</td>\n",
       "      <td>167.0</td>\n",
       "      <td>2</td>\n",
       "    </tr>\n",
       "    <tr>\n",
       "      <th>3</th>\n",
       "      <td>c51txl1</td>\n",
       "      <td>no guns = realistic\\n\\nbigger, badder zombies ...</td>\n",
       "      <td>-8</td>\n",
       "      <td>- No starter supplies doesn't do anything to d...</td>\n",
       "      <td>16.0</td>\n",
       "      <td>1</td>\n",
       "    </tr>\n",
       "    <tr>\n",
       "      <th>4</th>\n",
       "      <td>colckdc</td>\n",
       "      <td>Even though British people speak english I jus...</td>\n",
       "      <td>-14</td>\n",
       "      <td>This is from a British show called \"Peep Show....</td>\n",
       "      <td>441.0</td>\n",
       "      <td>0</td>\n",
       "    </tr>\n",
       "  </tbody>\n",
       "</table>\n",
       "</div>"
      ],
      "text/plain": [
       "        id                                               text  score  \\\n",
       "0  c4ciw4w  Maybe your dance moves were just that embarras...    117   \n",
       "1  cpfn8ia  I imagined an AT&amp;T rep seeing this post:  ...    466   \n",
       "2  c3r1ncb           There's always mana in the banana stand.    351   \n",
       "3  c51txl1  no guns = realistic\\n\\nbigger, badder zombies ...     -8   \n",
       "4  colckdc  Even though British people speak english I jus...    -14   \n",
       "\n",
       "                                         parent_text  parent_score  target  \n",
       "0  Funny story: way back in, I think 2003, Asimo ...         604.0       2  \n",
       "1  Unlike AT&amp;T, you can count on that to come...         944.0       2  \n",
       "2  If people think this is an unfair nerf, they h...         167.0       2  \n",
       "3  - No starter supplies doesn't do anything to d...          16.0       1  \n",
       "4  This is from a British show called \"Peep Show....         441.0       0  "
      ]
     },
     "execution_count": 102,
     "metadata": {},
     "output_type": "execute_result"
    }
   ],
   "source": [
    "import pandas as pd\n",
    "data = pd.read_csv(\"hw2_data.csv\")\n",
    "data.head()"
   ]
  },
  {
   "cell_type": "code",
   "execution_count": 107,
   "metadata": {},
   "outputs": [],
   "source": [
    "X = data[\"text\"]\n",
    "y = data['target']"
   ]
  },
  {
   "cell_type": "code",
   "execution_count": 105,
   "metadata": {},
   "outputs": [
    {
     "data": {
      "image/png": "[encoded data removed]",
      "text/plain": [
       "<Figure size 432x288 with 1 Axes>"
      ]
     },
     "metadata": {
      "needs_background": "light"
     },
     "output_type": "display_data"
    }
   ],
   "source": [
    "from matplotlib import pyplot as plt\n",
    "plt.hist([len(doc) for doc in data['text']])\n",
    "plt.show()"
   ]
  },
  {
   "cell_type": "code",
   "execution_count": 121,
   "metadata": {},
   "outputs": [],
   "source": [
    "import keras\n",
    "from keras.preprocessing.text import Tokenizer"
   ]
  },
  {
   "cell_type": "code",
   "execution_count": 195,
   "metadata": {},
   "outputs": [
    {
     "name": "stdout",
     "output_type": "stream",
     "text": [
      "<class 'list'>\n",
      "60000\n",
      "[197, 26, 3072, 3165, 82, 25, 8, 2996]\n"
     ]
    }
   ],
   "source": [
    "tokenizer = Tokenizer()\n",
    "tokenizer.fit_on_texts(X) \n",
    "sequences = tokenizer.texts_to_sequences(X)\n",
    "\n",
    "print(type(sequences))\n",
    "print(len(sequences))\n",
    "print(sequences[0])"
   ]
  },
  {
   "cell_type": "code",
   "execution_count": 217,
   "metadata": {},
   "outputs": [],
   "source": [
    "DOC_LEN = 1000\n",
    "MAX_WORDS = len(tokenizer.word_index)+1     ########################"
   ]
  },
  {
   "cell_type": "code",
   "execution_count": 122,
   "metadata": {},
   "outputs": [
    {
     "name": "stdout",
     "output_type": "stream",
     "text": [
      "(60000, 1000)\n"
     ]
    }
   ],
   "source": [
    "X_new = keras.preprocessing.sequence.pad_sequences(sequences, maxlen = DOC_LEN, dtype='int32', \\\n",
    "                                                   padding='post', truncating='post', value=0.0)\n",
    "\n",
    "print(X_new.shape)"
   ]
  },
  {
   "cell_type": "code",
   "execution_count": 124,
   "metadata": {},
   "outputs": [],
   "source": [
    "from sklearn.model_selection import train_test_split\n",
    "x_train, x_test, y_train, y_test = train_test_split(X_new, y, test_size=0.2)\n",
    "x_train, x_val, y_train, y_val = train_test_split(x_train, y_train, test_size=0.2)"
   ]
  },
  {
   "cell_type": "markdown",
   "metadata": {},
   "source": [
    "### Task 2.2.  Create a CNN model \n",
    "\n",
    "- Your model should contain the follow layers:\n",
    "    - Embedding (Note, you are not required to use pretrained word vector in the embedding layer)\n",
    "    - Convolution\n",
    "    - MaxPool1D\n",
    "    - Flatten, Concatenate, Dropout if needed\n",
    "    - Dense\n",
    "- Choose appropriate filter size and number of filters for each convolution layer\n",
    "- Use appropriate activate functions for all layers\n",
    "- Fit the model with appropriate regularization techniques.\n",
    "- Plot the loss and accuracy of the model over the training and validation data during training process\n",
    "- Test the model using test subset and show testing accuracy"
   ]
  },
  {
   "cell_type": "code",
   "execution_count": 197,
   "metadata": {},
   "outputs": [],
   "source": [
    "from keras.layers import Embedding, Dense, Conv1D, MaxPooling1D, Dropout, Activation, Input, Flatten, Concatenate\n",
    "from keras.models import Model"
   ]
  },
  {
   "cell_type": "code",
   "execution_count": 218,
   "metadata": {},
   "outputs": [
    {
     "name": "stdout",
     "output_type": "stream",
     "text": [
      "Model: \"model_4\"\n",
      "__________________________________________________________________________________________________\n",
      "Layer (type)                    Output Shape         Param #     Connected to                     \n",
      "==================================================================================================\n",
      "main_input (InputLayer)         (None, 1000)         0                                            \n",
      "__________________________________________________________________________________________________\n",
      "embedding (Embedding)           (None, 1000, 100)    6216200     main_input[0][0]                 \n",
      "__________________________________________________________________________________________________\n",
      "conv_unigram (Conv1D)           (None, 1000, 64)     6464        embedding[0][0]                  \n",
      "__________________________________________________________________________________________________\n",
      "conv_bigram (Conv1D)            (None, 999, 64)      12864       embedding[0][0]                  \n",
      "__________________________________________________________________________________________________\n",
      "pool_unigram (MaxPooling1D)     (None, 1, 64)        0           conv_unigram[0][0]               \n",
      "__________________________________________________________________________________________________\n",
      "pool_bigram (MaxPooling1D)      (None, 1, 64)        0           conv_bigram[0][0]                \n",
      "__________________________________________________________________________________________________\n",
      "flat_unigram (Flatten)          (None, 64)           0           pool_unigram[0][0]               \n",
      "__________________________________________________________________________________________________\n",
      "flat_bigram (Flatten)           (None, 64)           0           pool_bigram[0][0]                \n",
      "__________________________________________________________________________________________________\n",
      "concate (Concatenate)           (None, 128)          0           flat_unigram[0][0]               \n",
      "                                                                 flat_bigram[0][0]                \n",
      "__________________________________________________________________________________________________\n",
      "dropout (Dropout)               (None, 128)          0           concate[0][0]                    \n",
      "__________________________________________________________________________________________________\n",
      "output (Dense)                  (None, 1)            129         dropout[0][0]                    \n",
      "==================================================================================================\n",
      "Total params: 6,235,657\n",
      "Trainable params: 6,235,657\n",
      "Non-trainable params: 0\n",
      "__________________________________________________________________________________________________\n"
     ]
    }
   ],
   "source": [
    "EMBEDDING_DIM=100\n",
    "\n",
    "main_input = Input(shape=(DOC_LEN,), dtype='int32', name='main_input')\n",
    "embed_1 = Embedding(input_dim = MAX_WORDS, output_dim = EMBEDDING_DIM, input_length=DOC_LEN, name='embedding')(main_input)\n",
    "\n",
    "conv1d_1= Conv1D(filters=64, kernel_size=1, name='conv_unigram', activation='relu')(embed_1)\n",
    "pool_1 = MaxPooling1D(DOC_LEN-1+1, name='pool_unigram')(conv1d_1)\n",
    "flat_1 = Flatten(name='flat_unigram')(pool_1)\n",
    "\n",
    "conv1d_2= Conv1D(filters=64, kernel_size=2, name='conv_bigram', activation='relu')(embed_1)\n",
    "pool_2 = MaxPooling1D(DOC_LEN-2+1, name='pool_bigram')(conv1d_2)\n",
    "flat_2 = Flatten(name='flat_bigram')(pool_2)\n",
    "\n",
    "z=Concatenate(name='concate')([flat_1, flat_2])\n",
    "drop_1=Dropout(rate=0.5, name='dropout')(z)\n",
    "preds = Dense(1, activation='sigmoid', name='output')(drop_1)\n",
    "\n",
    "model = Model(inputs=main_input, outputs=preds)\n",
    "model.summary()"
   ]
  },
  {
   "cell_type": "code",
   "execution_count": 219,
   "metadata": {},
   "outputs": [],
   "source": [
    "model.compile(optimizer='rmsprop',\n",
    "              loss='binary_crossentropy',\n",
    "              metrics=['accuracy'])"
   ]
  },
  {
   "cell_type": "code",
   "execution_count": 220,
   "metadata": {},
   "outputs": [
    {
     "name": "stdout",
     "output_type": "stream",
     "text": [
      "Train on 38400 samples, validate on 9600 samples\n",
      "Epoch 1/20\n",
      "38400/38400 [==============================] - 107s 3ms/step - loss: -0.1398 - accuracy: 0.3418 - val_loss: -0.6559 - val_accuracy: 0.3457\n",
      "Epoch 2/20\n",
      "38400/38400 [==============================] - 104s 3ms/step - loss: -2.2476 - accuracy: 0.3429 - val_loss: -4.5121 - val_accuracy: 0.3457\n",
      "Epoch 3/20\n",
      "38400/38400 [==============================] - 104s 3ms/step - loss: -9.4961 - accuracy: 0.3437 - val_loss: -14.9257 - val_accuracy: 0.3457\n",
      "Epoch 4/20\n",
      "38400/38400 [==============================] - 120s 3ms/step - loss: -26.4434 - accuracy: 0.3419 - val_loss: -37.0488 - val_accuracy: 0.3457\n",
      "Epoch 5/20\n",
      "38400/38400 [==============================] - 105s 3ms/step - loss: -57.1666 - accuracy: 0.3433 - val_loss: -72.6422 - val_accuracy: 0.3457\n",
      "Epoch 6/20\n",
      "38400/38400 [==============================] - 128s 3ms/step - loss: -105.4104 - accuracy: 0.3440 - val_loss: -127.7922 - val_accuracy: 0.3462\n",
      "Epoch 7/20\n",
      "38400/38400 [==============================] - 106s 3ms/step - loss: -179.5522 - accuracy: 0.3423 - val_loss: -208.0489 - val_accuracy: 0.3461\n",
      "Epoch 8/20\n",
      "38400/38400 [==============================] - 114s 3ms/step - loss: -284.5806 - accuracy: 0.3417 - val_loss: -316.3478 - val_accuracy: 0.3459\n",
      "Epoch 9/20\n",
      "38400/38400 [==============================] - 129s 3ms/step - loss: -420.6528 - accuracy: 0.3431 - val_loss: -459.1903 - val_accuracy: 0.3461\n",
      "Epoch 10/20\n",
      "38400/38400 [==============================] - 117s 3ms/step - loss: -590.7381 - accuracy: 0.3419 - val_loss: -639.0120 - val_accuracy: 0.3461\n",
      "Epoch 11/20\n",
      "38400/38400 [==============================] - 111s 3ms/step - loss: -825.2609 - accuracy: 0.3432 - val_loss: -863.0083 - val_accuracy: 0.3462\n",
      "Epoch 12/20\n",
      "38400/38400 [==============================] - 115s 3ms/step - loss: -1089.9697 - accuracy: 0.3435 - val_loss: -1127.9001 - val_accuracy: 0.3462\n",
      "Epoch 13/20\n",
      "38400/38400 [==============================] - 99s 3ms/step - loss: -1400.3643 - accuracy: 0.3428 - val_loss: -1449.2872 - val_accuracy: 0.3461\n",
      "Epoch 14/20\n",
      "38400/38400 [==============================] - 99s 3ms/step - loss: -1803.8507 - accuracy: 0.3442 - val_loss: -1824.6429 - val_accuracy: 0.3465\n",
      "Epoch 15/20\n",
      "38400/38400 [==============================] - 100s 3ms/step - loss: -2240.0439 - accuracy: 0.3445 - val_loss: -2254.6785 - val_accuracy: 0.3465\n",
      "Epoch 16/20\n",
      "38400/38400 [==============================] - 102s 3ms/step - loss: -2741.5728 - accuracy: 0.3448 - val_loss: -2763.9874 - val_accuracy: 0.3465\n",
      "Epoch 17/20\n",
      "38400/38400 [==============================] - 139s 4ms/step - loss: -3424.0706 - accuracy: 0.3435 - val_loss: -3357.7892 - val_accuracy: 0.3462\n",
      "Epoch 18/20\n",
      "38400/38400 [==============================] - 122s 3ms/step - loss: -4090.7123 - accuracy: 0.3424 - val_loss: -4006.9771 - val_accuracy: 0.3465\n",
      "Epoch 19/20\n",
      "38400/38400 [==============================] - 107s 3ms/step - loss: -4797.3590 - accuracy: 0.3430 - val_loss: -4749.2263 - val_accuracy: 0.3462\n",
      "Epoch 20/20\n",
      "38400/38400 [==============================] - 153s 4ms/step - loss: -5743.2354 - accuracy: 0.3424 - val_loss: -5577.7995 - val_accuracy: 0.3462\n"
     ]
    }
   ],
   "source": [
    "history = model.fit(x_train,\n",
    "                    y_train,\n",
    "                    epochs=20,\n",
    "                    batch_size=128,\n",
    "                    validation_data=(x_val, y_val))"
   ]
  },
  {
   "cell_type": "code",
   "execution_count": 247,
   "metadata": {},
   "outputs": [
    {
     "data": {
      "image/png": "[encoded data removed]",
      "text/plain": [
       "<Figure size 432x288 with 1 Axes>"
      ]
     },
     "metadata": {
      "needs_background": "light"
     },
     "output_type": "display_data"
    },
    {
     "data": {
      "image/png": "[encoded data removed]",
      "text/plain": [
       "<Figure size 432x288 with 1 Axes>"
      ]
     },
     "metadata": {
      "needs_background": "light"
     },
     "output_type": "display_data"
    }
   ],
   "source": [
    "import matplotlib.pyplot as plt\n",
    "\n",
    "acc = history.history['accuracy']\n",
    "val_acc = history.history['val_accuracy']\n",
    "loss = history.history['loss']\n",
    "val_loss = history.history['val_loss']\n",
    "\n",
    "epochs = range(1, len(acc) + 1)\n",
    "\n",
    "plt.plot(epochs, loss, 'b-', label='Training loss')\n",
    "plt.plot(epochs, val_loss, 'r-', label='Validation loss')\n",
    "plt.title('Training and validation loss')\n",
    "plt.xlabel('Epochs')\n",
    "plt.ylabel('Loss')\n",
    "plt.legend()\n",
    "\n",
    "plt.show()\n",
    "\n",
    "plt.plot(epochs, acc, 'b-', label='Training acc')\n",
    "plt.plot(epochs, val_acc, 'r-', label='Validation acc')\n",
    "plt.title('Training and validation accuracy')\n",
    "plt.xlabel('Epochs')\n",
    "plt.ylabel('Loss')\n",
    "plt.legend()\n",
    "\n",
    "plt.show()"
   ]
  },
  {
   "cell_type": "code",
   "execution_count": 249,
   "metadata": {},
   "outputs": [
    {
     "name": "stdout",
     "output_type": "stream",
     "text": [
      "12000/12000 [==============================] - 8s 626us/step\n"
     ]
    }
   ],
   "source": [
    "test_loss, test_acc = model.evaluate(x_test, y_test)"
   ]
  },
  {
   "cell_type": "code",
   "execution_count": 250,
   "metadata": {},
   "outputs": [
    {
     "name": "stdout",
     "output_type": "stream",
     "text": [
      "-4360.1551707356775\n",
      "0.34433332085609436\n"
     ]
    }
   ],
   "source": [
    "print(test_loss)\n",
    "print(test_acc)"
   ]
  }
 ],
 "metadata": {
  "kernelspec": {
   "display_name": "Python 3",
   "language": "python",
   "name": "python3"
  },
  "language_info": {
   "codemirror_mode": {
    "name": "ipython",
    "version": 3
   },
   "file_extension": ".py",
   "mimetype": "text/x-python",
   "name": "python",
   "nbconvert_exporter": "python",
   "pygments_lexer": "ipython3",
   "version": "3.8.5"
  },
  "latex_envs": {
   "LaTeX_envs_menu_present": true,
   "autoclose": false,
   "autocomplete": true,
   "bibliofile": "biblio.bib",
   "cite_by": "apalike",
   "current_citInitial": 1,
   "eqLabelWithNumbers": true,
   "eqNumInitial": 1,
   "hotkeys": {
    "equation": "Ctrl-E",
    "itemize": "Ctrl-I"
   },
   "labels_anchors": false,
   "latex_user_defs": false,
   "report_style_numbering": false,
   "user_envs_cfg": false
  },
  "toc": {
   "base_numbering": 1,
   "nav_menu": {},
   "number_sections": true,
   "sideBar": true,
   "skip_h1_title": false,
   "title_cell": "Table of Contents",
   "title_sidebar": "Contents",
   "toc_cell": true,
   "toc_position": {},
   "toc_section_display": true,
   "toc_window_display": false
  }
 },
 "nbformat": 4,
 "nbformat_minor": 2
}
